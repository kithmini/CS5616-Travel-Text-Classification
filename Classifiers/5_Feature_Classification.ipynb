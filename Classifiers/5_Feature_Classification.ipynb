{
  "nbformat": 4,
  "nbformat_minor": 0,
  "metadata": {
    "colab": {
      "name": "5-Feature-Classification.ipynb",
      "provenance": [],
      "collapsed_sections": [],
      "toc_visible": true
    },
    "kernelspec": {
      "display_name": "Python 3",
      "name": "python3"
    }
  },
  "cells": [
    {
      "cell_type": "markdown",
      "metadata": {
        "id": "vCaqxcEsaPs5"
      },
      "source": [
        "## Travel Domain Question Classification\n",
        "\n",
        "Following program classifies questions related to travel domain using a set of features which is described below.\n",
        "\n",
        "\n"
      ]
    },
    {
      "cell_type": "markdown",
      "metadata": {
        "id": "N_Yh7gFvaqLB"
      },
      "source": [
        "Imports the required libraries and the data file"
      ]
    },
    {
      "cell_type": "code",
      "metadata": {
        "id": "SE6HBY1Cu3S1",
        "outputId": "443673df-0042-428b-a789-5e0ef6fb7ef1",
        "colab": {
          "base_uri": "https://localhost:8080/",
          "height": 358
        }
      },
      "source": [
        "import pandas as pd\n",
        "import re\n",
        "import numpy as np\n",
        "import matplotlib.pyplot as plt\n",
        "from nltk.corpus import stopwords\n",
        "from nltk.stem import WordNetLemmatizer \n",
        "from nltk import pos_tag\n",
        "from sklearn.feature_extraction.text import TfidfVectorizer\n",
        "from sklearn.metrics import classification_report, confusion_matrix\n",
        "from sklearn.model_selection import train_test_split\n",
        "import sqlite3\n",
        "import pickle\n",
        "%matplotlib inline\n",
        "import nltk\n",
        "nltk.download('stopwords')\n",
        "nltk.download('punkt')\n",
        "nltk.download('wordnet')\n",
        "\n",
        "print('----- Importing dataset -----')\n",
        "d_file = open('5000TravelQuestionsDataset.csv', encoding=\"latin-1\")\n",
        "\n",
        "df = pd.read_csv(d_file, header=None)\n",
        "df.columns = ['text', 'class1', 'class2']\n",
        "\n",
        "print ('Training Data : Imported Rows, Columns - ', df.shape)\n",
        "print ('Data Preview :')\n",
        "df.head()\n",
        "\n",
        "\n"
      ],
      "execution_count": null,
      "outputs": [
        {
          "output_type": "stream",
          "text": [
            "[nltk_data] Downloading package stopwords to /root/nltk_data...\n",
            "[nltk_data]   Unzipping corpora/stopwords.zip.\n",
            "[nltk_data] Downloading package punkt to /root/nltk_data...\n",
            "[nltk_data]   Unzipping tokenizers/punkt.zip.\n",
            "[nltk_data] Downloading package wordnet to /root/nltk_data...\n",
            "[nltk_data]   Unzipping corpora/wordnet.zip.\n",
            "----- Importing dataset -----\n",
            "Training Data : Imported Rows, Columns -  (5000, 3)\n",
            "Data Preview :\n"
          ],
          "name": "stdout"
        },
        {
          "output_type": "execute_result",
          "data": {
            "text/html": [
              "<div>\n",
              "<style scoped>\n",
              "    .dataframe tbody tr th:only-of-type {\n",
              "        vertical-align: middle;\n",
              "    }\n",
              "\n",
              "    .dataframe tbody tr th {\n",
              "        vertical-align: top;\n",
              "    }\n",
              "\n",
              "    .dataframe thead th {\n",
              "        text-align: right;\n",
              "    }\n",
              "</style>\n",
              "<table border=\"1\" class=\"dataframe\">\n",
              "  <thead>\n",
              "    <tr style=\"text-align: right;\">\n",
              "      <th></th>\n",
              "      <th>text</th>\n",
              "      <th>class1</th>\n",
              "      <th>class2</th>\n",
              "    </tr>\n",
              "  </thead>\n",
              "  <tbody>\n",
              "    <tr>\n",
              "      <th>0</th>\n",
              "      <td>What are the special things we (husband and me...</td>\n",
              "      <td>TTD</td>\n",
              "      <td>TTDSIG</td>\n",
              "    </tr>\n",
              "    <tr>\n",
              "      <th>1</th>\n",
              "      <td>What are the companies which organize shark fe...</td>\n",
              "      <td>TTD</td>\n",
              "      <td>TTDOTH</td>\n",
              "    </tr>\n",
              "    <tr>\n",
              "      <th>2</th>\n",
              "      <td>Is it safe for female traveller to go alone to...</td>\n",
              "      <td>TGU</td>\n",
              "      <td>TGUHEA</td>\n",
              "    </tr>\n",
              "    <tr>\n",
              "      <th>3</th>\n",
              "      <td>What are the best places around Cape Town for ...</td>\n",
              "      <td>TTD</td>\n",
              "      <td>TTDSIG</td>\n",
              "    </tr>\n",
              "    <tr>\n",
              "      <th>4</th>\n",
              "      <td>What are the best places to stay for a family ...</td>\n",
              "      <td>ACM</td>\n",
              "      <td>ACMOTH</td>\n",
              "    </tr>\n",
              "  </tbody>\n",
              "</table>\n",
              "</div>"
            ],
            "text/plain": [
              "                                                text class1  class2\n",
              "0  What are the special things we (husband and me...    TTD  TTDSIG\n",
              "1  What are the companies which organize shark fe...    TTD  TTDOTH\n",
              "2  Is it safe for female traveller to go alone to...    TGU  TGUHEA\n",
              "3  What are the best places around Cape Town for ...    TTD  TTDSIG\n",
              "4  What are the best places to stay for a family ...    ACM  ACMOTH"
            ]
          },
          "metadata": {
            "tags": []
          },
          "execution_count": 1
        }
      ]
    },
    {
      "cell_type": "code",
      "metadata": {
        "id": "cn6V2nCI1rTA",
        "outputId": "56eb4cef-91db-458e-e49e-d90034ca6e22",
        "colab": {
          "base_uri": "https://localhost:8080/",
          "height": 293
        }
      },
      "source": [
        "df.groupby('class1').text.count().plot.bar(ylim=0)\n",
        "plt.show()"
      ],
      "execution_count": null,
      "outputs": [
        {
          "output_type": "display_data",
          "data": {
            "image/png": "[encoded data removed]",
            "text/plain": [
              "<Figure size 432x288 with 1 Axes>"
            ]
          },
          "metadata": {
            "tags": []
          }
        }
      ]
    },
    {
      "cell_type": "markdown",
      "metadata": {
        "id": "3kVxE1dKZreN"
      },
      "source": [
        "The following section performs the text normalizing steps by converting text to lower case, removing leading and trailing whitespaces & removing stop words."
      ]
    },
    {
      "cell_type": "code",
      "metadata": {
        "id": "OobcyqA4nD7p",
        "outputId": "2e571e7d-9686-461c-c40b-e3e2df2da62d",
        "colab": {
          "base_uri": "https://localhost:8080/",
          "height": 202
        }
      },
      "source": [
        "# Text normalization steps\n",
        "import string\n",
        "\n",
        "# Function to remove stop words\n",
        "def remove_stopwords(text):\n",
        "  text_tokens = nltk.word_tokenize(text) \n",
        "  filtered_sentence = [word for word in text_tokens if not word in stopwords.words()] \n",
        "  return \" \".join(filtered_sentence)\n",
        "\n",
        "# Converting to lower case \n",
        "df['processed_text'] = df['text'].str.lower()\n",
        "# Removing punctuations\n",
        "translator = str.maketrans('', '', string.punctuation)\n",
        "df['processed_text'] = df['processed_text'].str.translate(translator)\n",
        "# Removing leading ending white spaces\n",
        "df['processed_text'] = df['processed_text'].str.strip()\n",
        "# Remove stop words\n",
        "df['processed_text'] = df.processed_text.apply(remove_stopwords)\n",
        "\n",
        "\n",
        "# Removing leading ending white spaces\n",
        "df['class1'] = df['class1'].str.strip()\n",
        "df['class2'] = df['class2'].str.strip()\n",
        "\n",
        "df.head()\n"
      ],
      "execution_count": null,
      "outputs": [
        {
          "output_type": "execute_result",
          "data": {
            "text/html": [
              "<div>\n",
              "<style scoped>\n",
              "    .dataframe tbody tr th:only-of-type {\n",
              "        vertical-align: middle;\n",
              "    }\n",
              "\n",
              "    .dataframe tbody tr th {\n",
              "        vertical-align: top;\n",
              "    }\n",
              "\n",
              "    .dataframe thead th {\n",
              "        text-align: right;\n",
              "    }\n",
              "</style>\n",
              "<table border=\"1\" class=\"dataframe\">\n",
              "  <thead>\n",
              "    <tr style=\"text-align: right;\">\n",
              "      <th></th>\n",
              "      <th>text</th>\n",
              "      <th>class1</th>\n",
              "      <th>class2</th>\n",
              "      <th>processed_text</th>\n",
              "    </tr>\n",
              "  </thead>\n",
              "  <tbody>\n",
              "    <tr>\n",
              "      <th>0</th>\n",
              "      <td>What are the special things we (husband and me...</td>\n",
              "      <td>TTD</td>\n",
              "      <td>TTDSIG</td>\n",
              "      <td>special things husband 5 day stay cape town</td>\n",
              "    </tr>\n",
              "    <tr>\n",
              "      <th>1</th>\n",
              "      <td>What are the companies which organize shark fe...</td>\n",
              "      <td>TTD</td>\n",
              "      <td>TTDOTH</td>\n",
              "      <td>companies organize shark feeding events scuba ...</td>\n",
              "    </tr>\n",
              "    <tr>\n",
              "      <th>2</th>\n",
              "      <td>Is it safe for female traveller to go alone to...</td>\n",
              "      <td>TGU</td>\n",
              "      <td>TGUHEA</td>\n",
              "      <td>safe female traveller go alone cape town</td>\n",
              "    </tr>\n",
              "    <tr>\n",
              "      <th>3</th>\n",
              "      <td>What are the best places around Cape Town for ...</td>\n",
              "      <td>TTD</td>\n",
              "      <td>TTDSIG</td>\n",
              "      <td>best places around cape town safari</td>\n",
              "    </tr>\n",
              "    <tr>\n",
              "      <th>4</th>\n",
              "      <td>What are the best places to stay for a family ...</td>\n",
              "      <td>ACM</td>\n",
              "      <td>ACMOTH</td>\n",
              "      <td>best places stay family stay away nightlife</td>\n",
              "    </tr>\n",
              "  </tbody>\n",
              "</table>\n",
              "</div>"
            ],
            "text/plain": [
              "                                                text  ...                                     processed_text\n",
              "0  What are the special things we (husband and me...  ...        special things husband 5 day stay cape town\n",
              "1  What are the companies which organize shark fe...  ...  companies organize shark feeding events scuba ...\n",
              "2  Is it safe for female traveller to go alone to...  ...           safe female traveller go alone cape town\n",
              "3  What are the best places around Cape Town for ...  ...                best places around cape town safari\n",
              "4  What are the best places to stay for a family ...  ...        best places stay family stay away nightlife\n",
              "\n",
              "[5 rows x 4 columns]"
            ]
          },
          "metadata": {
            "tags": []
          },
          "execution_count": 3
        }
      ]
    },
    {
      "cell_type": "code",
      "metadata": {
        "id": "ONhLJ3ilQgn1",
        "outputId": "8b5d4fca-b26c-49e1-d453-768f21289a0f",
        "colab": {
          "base_uri": "https://localhost:8080/",
          "height": 293
        }
      },
      "source": [
        "df.groupby('class1').text.count().plot.bar(ylim=0)\n",
        "plt.show()"
      ],
      "execution_count": null,
      "outputs": [
        {
          "output_type": "display_data",
          "data": {
            "image/png": "[encoded data removed]",
            "text/plain": [
              "<Figure size 432x288 with 1 Axes>"
            ]
          },
          "metadata": {
            "tags": []
          }
        }
      ]
    },
    {
      "cell_type": "markdown",
      "metadata": {
        "id": "d1LM4dp3DYRw"
      },
      "source": [
        "# Lemmatizing"
      ]
    },
    {
      "cell_type": "code",
      "metadata": {
        "id": "t_uLv-mXDcMK"
      },
      "source": [
        "lemmatizer = nltk.stem.WordNetLemmatizer()\n",
        "\n",
        "def lemmatize_text(text):\n",
        "  lemmatized = [lemmatizer.lemmatize(word, pos=\"v\") for word in nltk.word_tokenize(text)]\n",
        "  return ' '.join(lemmatized)\n",
        "\n",
        "df['lemmatized'] = df.processed_text.apply(lemmatize_text)\n"
      ],
      "execution_count": null,
      "outputs": []
    },
    {
      "cell_type": "markdown",
      "metadata": {
        "id": "1J8O-mHPbQEt"
      },
      "source": [
        "# POS Tagging"
      ]
    },
    {
      "cell_type": "code",
      "metadata": {
        "id": "M93tU8Dzb3fS",
        "outputId": "58d17cbf-43f9-431d-beed-32608820bd0a",
        "colab": {
          "base_uri": "https://localhost:8080/"
        }
      },
      "source": [
        "import nltk\n",
        "nltk.download('averaged_perceptron_tagger')\n",
        "# Modified POS tagger to retain words and apply tf idf vectoriser\n",
        "def mod_pos_tagger(text):\n",
        "    pos_tagged = [ r[0] + \"_\" + r[1] for r in pos_tag(nltk.word_tokenize(text))] \n",
        "    return ' '.join(pos_tagged)\n",
        "\n",
        "df['pos_tagged'] = df.processed_text.apply(mod_pos_tagger)\n"
      ],
      "execution_count": null,
      "outputs": [
        {
          "output_type": "stream",
          "text": [
            "[nltk_data] Downloading package averaged_perceptron_tagger to\n",
            "[nltk_data]     /root/nltk_data...\n",
            "[nltk_data]   Unzipping taggers/averaged_perceptron_tagger.zip.\n"
          ],
          "name": "stdout"
        }
      ]
    },
    {
      "cell_type": "markdown",
      "metadata": {
        "id": "Fhqfm0XYcMQG"
      },
      "source": [
        "# Headword Extraction"
      ]
    },
    {
      "cell_type": "code",
      "metadata": {
        "id": "pMKGHMYocPI8"
      },
      "source": [
        "import spacy\n",
        "\n",
        "nlp = spacy.load('en_core_web_sm')\n",
        "def head_word_tokenizer(text):\n",
        "    head_words = []\n",
        "    for token in nlp(text):\n",
        "        if token.dep_ == \"nsubj\" or token.dep_ == \"dobj\" or token.dep_ == \"aux\" or token.dep_ == \"ROOT\":\n",
        "            head_words.append(token.text)\n",
        "            head_words.append(token.head.text)\n",
        "    unique_hw = list(set(head_words))\n",
        "    return unique_hw\n",
        "\n",
        "df['headwords'] = df.processed_text.apply(head_word_tokenizer)\n"
      ],
      "execution_count": null,
      "outputs": []
    },
    {
      "cell_type": "markdown",
      "metadata": {
        "id": "PU09z_ojwDUC"
      },
      "source": [
        "# Headword Synonyms"
      ]
    },
    {
      "cell_type": "code",
      "metadata": {
        "id": "bBDOCTjJwCef"
      },
      "source": [
        "from nltk.corpus import wordnet\n",
        "max_syns = 2\n",
        "\n",
        "def wordnet_synonyms(keywords):\n",
        "  synonyms = []\n",
        "  for keyword in keywords:\n",
        "    count = 0\n",
        "    for synset in wordnet.synsets(keyword):\n",
        "      if count <= max_syns:\n",
        "        for lemma in synset.lemmas():\n",
        "          if count <= max_syns:\n",
        "            synonyms.append(lemma.name())\n",
        "          else: \n",
        "            break\n",
        "        count = count + 1\n",
        "      else:\n",
        "        break\n",
        "\n",
        "  unique_synonyms = list(set(synonyms))\n",
        "  return ' '.join(synonyms)\n",
        "\n",
        "df['headwords_synonyms'] = df.headwords.apply(wordnet_synonyms)\n"
      ],
      "execution_count": null,
      "outputs": []
    },
    {
      "cell_type": "code",
      "metadata": {
        "id": "clk7e8bFcfQU"
      },
      "source": [
        "def join_strings(text):\n",
        "  words = []\n",
        "  for word in text:\n",
        "    words.append(word)\n",
        "\n",
        "  return ' '.join(words)\n",
        "\n",
        "df['headwords'] = df.headwords.apply(join_strings)\n"
      ],
      "execution_count": null,
      "outputs": []
    },
    {
      "cell_type": "markdown",
      "metadata": {
        "id": "EgBLIXNsAYrI"
      },
      "source": [
        "# Named Entity Recognition"
      ]
    },
    {
      "cell_type": "code",
      "metadata": {
        "id": "kD4tB_-4AgH9",
        "outputId": "c3ac02bf-e8e5-4375-abdc-45d7334a28eb",
        "colab": {
          "base_uri": "https://localhost:8080/",
          "height": 1000
        }
      },
      "source": [
        "def named_entity_tokenizer(text):\n",
        "    named_entities = []\n",
        "    for ent in nlp(text).ents:\n",
        "      named_entities.append(ent.text + '_' + ent.label_)\n",
        "    # unique_ent = list(set(named_entities))\n",
        "    return ' '.join(named_entities)\n",
        "\n",
        "df['named_entities'] = df.text.apply(named_entity_tokenizer)\n",
        "df\n"
      ],
      "execution_count": null,
      "outputs": [
        {
          "output_type": "execute_result",
          "data": {
            "text/html": [
              "<div>\n",
              "<style scoped>\n",
              "    .dataframe tbody tr th:only-of-type {\n",
              "        vertical-align: middle;\n",
              "    }\n",
              "\n",
              "    .dataframe tbody tr th {\n",
              "        vertical-align: top;\n",
              "    }\n",
              "\n",
              "    .dataframe thead th {\n",
              "        text-align: right;\n",
              "    }\n",
              "</style>\n",
              "<table border=\"1\" class=\"dataframe\">\n",
              "  <thead>\n",
              "    <tr style=\"text-align: right;\">\n",
              "      <th></th>\n",
              "      <th>text</th>\n",
              "      <th>class1</th>\n",
              "      <th>class2</th>\n",
              "      <th>processed_text</th>\n",
              "      <th>lemmatized</th>\n",
              "      <th>pos_tagged</th>\n",
              "      <th>headwords</th>\n",
              "      <th>headwords_synonyms</th>\n",
              "      <th>named_entities</th>\n",
              "    </tr>\n",
              "  </thead>\n",
              "  <tbody>\n",
              "    <tr>\n",
              "      <th>0</th>\n",
              "      <td>What are the special things we (husband and me...</td>\n",
              "      <td>TTD</td>\n",
              "      <td>TTDSIG</td>\n",
              "      <td>special things husband 5 day stay cape town</td>\n",
              "      <td>special things husband 5 day stay cape town</td>\n",
              "      <td>special_JJ things_NNS husband_VBP 5_CD day_NN ...</td>\n",
              "      <td>things husband stay</td>\n",
              "      <td>things thing thing husband hubby married_man c...</td>\n",
              "      <td>5 day_DATE Cape Town_FAC</td>\n",
              "    </tr>\n",
              "    <tr>\n",
              "      <th>1</th>\n",
              "      <td>What are the companies which organize shark fe...</td>\n",
              "      <td>TTD</td>\n",
              "      <td>TTDOTH</td>\n",
              "      <td>companies organize shark feeding events scuba ...</td>\n",
              "      <td>company organize shark feed events scuba divers</td>\n",
              "      <td>companies_NNS organize_VBP shark_JJ feeding_VB...</td>\n",
              "      <td>organize divers companies</td>\n",
              "      <td>form organize organise organize organise maste...</td>\n",
              "      <td></td>\n",
              "    </tr>\n",
              "    <tr>\n",
              "      <th>2</th>\n",
              "      <td>Is it safe for female traveller to go alone to...</td>\n",
              "      <td>TGU</td>\n",
              "      <td>TGUHEA</td>\n",
              "      <td>safe female traveller go alone cape town</td>\n",
              "      <td>safe female traveller go alone cape town</td>\n",
              "      <td>safe_JJ female_NN traveller_NN go_VBP alone_RB...</td>\n",
              "      <td>go traveller</td>\n",
              "      <td>go spell tour turn Adam ecstasy XTC go disco_b...</td>\n",
              "      <td>Cape Town_GPE</td>\n",
              "    </tr>\n",
              "    <tr>\n",
              "      <th>3</th>\n",
              "      <td>What are the best places around Cape Town for ...</td>\n",
              "      <td>TTD</td>\n",
              "      <td>TTDSIG</td>\n",
              "      <td>best places around cape town safari</td>\n",
              "      <td>best place around cape town safari</td>\n",
              "      <td>best_JJS places_NNS around_IN cape_NN town_NN ...</td>\n",
              "      <td>places</td>\n",
              "      <td>topographic_point place spot place property place</td>\n",
              "      <td>Cape Town_LOC safari_GPE</td>\n",
              "    </tr>\n",
              "    <tr>\n",
              "      <th>4</th>\n",
              "      <td>What are the best places to stay for a family ...</td>\n",
              "      <td>ACM</td>\n",
              "      <td>ACMOTH</td>\n",
              "      <td>best places stay family stay away nightlife</td>\n",
              "      <td>best place stay family stay away nightlife</td>\n",
              "      <td>best_JJS places_NNS stay_VBP family_NN stay_VB...</td>\n",
              "      <td>places stay family</td>\n",
              "      <td>topographic_point place spot place property pl...</td>\n",
              "      <td></td>\n",
              "    </tr>\n",
              "    <tr>\n",
              "      <th>...</th>\n",
              "      <td>...</td>\n",
              "      <td>...</td>\n",
              "      <td>...</td>\n",
              "      <td>...</td>\n",
              "      <td>...</td>\n",
              "      <td>...</td>\n",
              "      <td>...</td>\n",
              "      <td>...</td>\n",
              "      <td>...</td>\n",
              "    </tr>\n",
              "    <tr>\n",
              "      <th>4995</th>\n",
              "      <td>What is the best area to be based for sightsee...</td>\n",
              "      <td>TTD</td>\n",
              "      <td>TTDSIG</td>\n",
              "      <td>best area based sightseeing palma</td>\n",
              "      <td>best area base sightsee palma</td>\n",
              "      <td>best_JJS area_NN based_VBN sightseeing_NN palm...</td>\n",
              "      <td>area</td>\n",
              "      <td>area country area area region</td>\n",
              "      <td>Palma_ORG</td>\n",
              "    </tr>\n",
              "    <tr>\n",
              "      <th>4996</th>\n",
              "      <td>What are the good value traditional bars and r...</td>\n",
              "      <td>FOD</td>\n",
              "      <td>FODBAR</td>\n",
              "      <td>good value traditional bars restaurants barcelona</td>\n",
              "      <td>good value traditional bar restaurants barcelona</td>\n",
              "      <td>good_JJ value_NN traditional_JJ bars_NNS resta...</td>\n",
              "      <td>barcelona bars restaurants</td>\n",
              "      <td>Barcelona parallel_bars bars barroom bar saloo...</td>\n",
              "      <td>Barcelona_GPE</td>\n",
              "    </tr>\n",
              "    <tr>\n",
              "      <th>4997</th>\n",
              "      <td>What are the hotels near Alicante bus station?</td>\n",
              "      <td>ACM</td>\n",
              "      <td>ACMHOT</td>\n",
              "      <td>hotels near alicante bus station</td>\n",
              "      <td>hotels near alicante bus station</td>\n",
              "      <td>hotels_NNS near_IN alicante_JJ bus_NN station_NN</td>\n",
              "      <td>hotels</td>\n",
              "      <td>hotel</td>\n",
              "      <td></td>\n",
              "    </tr>\n",
              "    <tr>\n",
              "      <th>4998</th>\n",
              "      <td>Where to stay in La Gomera to mountain biking?</td>\n",
              "      <td>TTD</td>\n",
              "      <td>TTDSPO</td>\n",
              "      <td>stay gomera mountain biking</td>\n",
              "      <td>stay gomera mountain bike</td>\n",
              "      <td>stay_NN gomera_NN mountain_NN biking_NN</td>\n",
              "      <td>biking stay</td>\n",
              "      <td>bicycle cycle bike pedal wheel stay arrest che...</td>\n",
              "      <td>La Gomera_ORG</td>\n",
              "    </tr>\n",
              "    <tr>\n",
              "      <th>4999</th>\n",
              "      <td>Is it possible to take a train trip from Santi...</td>\n",
              "      <td>TRS</td>\n",
              "      <td>TRSTRN</td>\n",
              "      <td>possible train trip santiago madrid</td>\n",
              "      <td>possible train trip santiago madrid</td>\n",
              "      <td>possible_JJ train_NN trip_NN santiago_NN madri...</td>\n",
              "      <td>santiago trip</td>\n",
              "      <td>Santiago_de_los_Caballeros Santiago Santiago_d...</td>\n",
              "      <td>Santiago_GPE Madrid_GPE</td>\n",
              "    </tr>\n",
              "  </tbody>\n",
              "</table>\n",
              "<p>5000 rows × 9 columns</p>\n",
              "</div>"
            ],
            "text/plain": [
              "                                                   text  ...            named_entities\n",
              "0     What are the special things we (husband and me...  ...  5 day_DATE Cape Town_FAC\n",
              "1     What are the companies which organize shark fe...  ...                          \n",
              "2     Is it safe for female traveller to go alone to...  ...             Cape Town_GPE\n",
              "3     What are the best places around Cape Town for ...  ...  Cape Town_LOC safari_GPE\n",
              "4     What are the best places to stay for a family ...  ...                          \n",
              "...                                                 ...  ...                       ...\n",
              "4995  What is the best area to be based for sightsee...  ...                 Palma_ORG\n",
              "4996  What are the good value traditional bars and r...  ...             Barcelona_GPE\n",
              "4997     What are the hotels near Alicante bus station?  ...                          \n",
              "4998     Where to stay in La Gomera to mountain biking?  ...             La Gomera_ORG\n",
              "4999  Is it possible to take a train trip from Santi...  ...   Santiago_GPE Madrid_GPE\n",
              "\n",
              "[5000 rows x 9 columns]"
            ]
          },
          "metadata": {
            "tags": []
          },
          "execution_count": 10
        }
      ]
    },
    {
      "cell_type": "markdown",
      "metadata": {
        "id": "oDsxsqod-EvO"
      },
      "source": [
        "# Label Encoder for Classes"
      ]
    },
    {
      "cell_type": "code",
      "metadata": {
        "id": "g9WRCtAp-LlF"
      },
      "source": [
        "from sklearn.preprocessing import LabelEncoder\n",
        "def label_encoder(text):\n",
        "  le = LabelEncoder()\n",
        "  y_encoded = le.fit_transform(text)"
      ],
      "execution_count": null,
      "outputs": []
    },
    {
      "cell_type": "markdown",
      "metadata": {
        "id": "K8jD3xy_MKEQ"
      },
      "source": [
        "# Vectorize\n",
        "\n",
        "Vectorize with TF IDF vectorizer"
      ]
    },
    {
      "cell_type": "code",
      "metadata": {
        "id": "MHEid7Xbx3-s",
        "outputId": "a94caf7c-c84f-4670-fadd-81956d6074bc",
        "colab": {
          "base_uri": "https://localhost:8080/"
        }
      },
      "source": [
        "from sklearn.feature_extraction.text import TfidfVectorizer\n",
        "\n",
        "def tfidf_vectorize(text):\n",
        "  tfidfconverter = TfidfVectorizer(max_features=1500, min_df=1, max_df=0.7, stop_words=stopwords.words('english'))\n",
        "  vctzr = tfidfconverter.fit_transform(text).toarray()\n",
        "  return vctzr\n",
        "\n",
        "print('Bag of words -----')\n",
        "tfidf_vectorize(df['lemmatized']).shape\n",
        "print('Named Entity -----')\n",
        "tfidf_vectorize(df['named_entities']).shape\n",
        "print('Head Words -----')\n",
        "tfidf_vectorize(df['headwords']).shape\n",
        "print('Head Words Synonyms-----')\n",
        "tfidf_vectorize(df['headwords_synonyms']).shape\n",
        "print('POS tagged-----')\n",
        "tfidf_vectorize(df['pos_tagged']).shape\n",
        "\n"
      ],
      "execution_count": null,
      "outputs": [
        {
          "output_type": "stream",
          "text": [
            "Bag of words -----\n",
            "Named Entity -----\n",
            "Head Words -----\n",
            "Head Words Synonyms-----\n",
            "POS tagged-----\n"
          ],
          "name": "stdout"
        },
        {
          "output_type": "execute_result",
          "data": {
            "text/plain": [
              "(5000, 1500)"
            ]
          },
          "metadata": {
            "tags": []
          },
          "execution_count": 12
        }
      ]
    },
    {
      "cell_type": "markdown",
      "metadata": {
        "id": "FyF-rrQw_sKn"
      },
      "source": [
        "# Accuracy Calculation"
      ]
    },
    {
      "cell_type": "code",
      "metadata": {
        "id": "spsUtOnw_wl3"
      },
      "source": [
        "from sklearn.metrics import f1_score\n",
        "from sklearn.metrics import accuracy_score\n",
        "from sklearn.metrics import confusion_matrix\n",
        "from sklearn.metrics import classification_report\n",
        "\n",
        "\n",
        "def accuracy_report(y_test, y_pred):\n",
        "    \n",
        "    print(classification_report(y_test,y_pred))\n",
        "\n",
        "    acc = accuracy_score(y_test, y_pred)*100\n",
        "    print('Accuracy : %.3f' % acc)\n",
        "\n",
        "    print('F1 Score: %.3f' % f1_score(y_test, y_pred, average='weighted'))\n",
        "    \n",
        "    cm = confusion_matrix(y_test, y_pred)\n",
        "    print(\"Confusion Matrix: \\n{}\".format(cm))"
      ],
      "execution_count": null,
      "outputs": []
    },
    {
      "cell_type": "markdown",
      "metadata": {
        "id": "EYREOchz-ura"
      },
      "source": [
        "# Model Creation and Training\n",
        "\n",
        "The model uses the following features\n",
        "\n",
        "\n",
        "1.   Bag of words\n",
        "2.   Headwords\n",
        "3.   Synonyms of headwords\n",
        "4.   POS tags\n",
        "5.   Name Entitiy Relations\n",
        "\n",
        "\n"
      ]
    },
    {
      "cell_type": "code",
      "metadata": {
        "id": "B1t0tDZY-yxm"
      },
      "source": [
        "le = LabelEncoder()\n",
        "\n",
        "x_encoded = np.concatenate((tfidf_vectorize(df['lemmatized']), tfidf_vectorize(df['named_entities']), tfidf_vectorize(df['headwords']), tfidf_vectorize(df['headwords_synonyms']), tfidf_vectorize(df['pos_tagged'])), axis=1)\n",
        "y_encoded = le.fit_transform(df['class1'])"
      ],
      "execution_count": null,
      "outputs": []
    },
    {
      "cell_type": "code",
      "metadata": {
        "id": "K_8zrKWXhlKR",
        "outputId": "3f1b90f0-7e6a-4e95-d18f-68d2aa1c3052",
        "colab": {
          "base_uri": "https://localhost:8080/"
        }
      },
      "source": [
        "from sklearn.model_selection import KFold\n",
        "from sklearn.model_selection import cross_val_score\n",
        "\n",
        "from sklearn.svm import SVC\n",
        "from sklearn.metrics import accuracy_score\n",
        "\n",
        "\n",
        "cv = KFold(n_splits=10, random_state=1, shuffle=True)\n",
        "fold = 0\n",
        "accuracies = []\n",
        "for train_index, test_index in cv.split(x_encoded):\n",
        "    fold += 1\n",
        "    X_train, X_test = x_encoded[train_index], x_encoded[test_index]\n",
        "    y_train, y_test = y_encoded[train_index], y_encoded[test_index]\n",
        "    SVM = SVC(C=1.0, kernel='linear', degree=3, gamma='auto')\n",
        "    SVM.fit(X_train,y_train)\n",
        "    predictions_SVM1 = SVM.predict(X_test)\n",
        "    acc = accuracy_score(predictions_SVM1, y_test)*100\n",
        "    accuracies.append(acc)\n",
        "    print(\"Fold: {} - {} - {:.2f}\".format(fold, \"Accuracy: \",acc))\n",
        "    \n",
        "print(\"Mean {:.2f} Standard Deviation {:.2f}\".format(np.mean(accuracies), np.std(accuracies)))"
      ],
      "execution_count": null,
      "outputs": [
        {
          "output_type": "stream",
          "text": [
            "Fold: 1 - Accuracy:  - 79.00\n",
            "Fold: 2 - Accuracy:  - 76.80\n",
            "Fold: 3 - Accuracy:  - 74.80\n",
            "Fold: 4 - Accuracy:  - 77.00\n",
            "Fold: 5 - Accuracy:  - 74.40\n",
            "Fold: 6 - Accuracy:  - 77.20\n",
            "Fold: 7 - Accuracy:  - 74.40\n",
            "Fold: 8 - Accuracy:  - 76.80\n",
            "Fold: 9 - Accuracy:  - 75.00\n",
            "Fold: 10 - Accuracy:  - 77.20\n",
            "Mean 76.26 Standard Deviation 1.45\n"
          ],
          "name": "stdout"
        }
      ]
    },
    {
      "cell_type": "code",
      "metadata": {
        "id": "Vi4oiECuqnrt"
      },
      "source": [
        "le = LabelEncoder()\n",
        "\n",
        "x_encoded = np.concatenate((tfidf_vectorize(df['lemmatized']), tfidf_vectorize(df['named_entities']), tfidf_vectorize(df['headwords']), tfidf_vectorize(df['headwords_synonyms']), tfidf_vectorize(df['pos_tagged'])), axis=1)\n",
        "y_encoded = le.fit_transform(df['class2'])"
      ],
      "execution_count": null,
      "outputs": []
    },
    {
      "cell_type": "code",
      "metadata": {
        "id": "qNXteUFSq24o",
        "outputId": "33e324d2-9797-40c8-c2c7-cdad04b9c8e8",
        "colab": {
          "base_uri": "https://localhost:8080/"
        }
      },
      "source": [
        "from sklearn.model_selection import KFold\n",
        "from sklearn.model_selection import cross_val_score\n",
        "\n",
        "from sklearn.svm import SVC\n",
        "from sklearn.metrics import accuracy_score\n",
        "\n",
        "\n",
        "cv = KFold(n_splits=10, random_state=1, shuffle=True)\n",
        "fold = 0\n",
        "accuracies = []\n",
        "for train_index, test_index in cv.split(x_encoded):\n",
        "    fold += 1\n",
        "    X_train, X_test = x_encoded[train_index], x_encoded[test_index]\n",
        "    y_train, y_test = y_encoded[train_index], y_encoded[test_index]\n",
        "    SVM = SVC(C=1.0, kernel='linear', degree=3, gamma='auto')\n",
        "    SVM.fit(X_train,y_train)\n",
        "    predictions_SVMN = SVM.predict(X_test)\n",
        "    acc = accuracy_score(predictions_SVMN, y_test)*100\n",
        "    accuracies.append(acc)\n",
        "    print(\"Fold: {} - {} - {:.2f}\".format(fold, \"Accuracy: \",acc))\n",
        "    \n",
        "print(\"Mean {:.2f} Standard Deviation {:.2f}\".format(np.mean(accuracies), np.std(accuracies)))"
      ],
      "execution_count": null,
      "outputs": [
        {
          "output_type": "stream",
          "text": [
            "Fold: 1 - Accuracy:  - 58.40\n",
            "Fold: 2 - Accuracy:  - 58.60\n",
            "Fold: 3 - Accuracy:  - 58.40\n",
            "Fold: 4 - Accuracy:  - 61.60\n",
            "Fold: 5 - Accuracy:  - 58.00\n",
            "Fold: 6 - Accuracy:  - 57.00\n",
            "Fold: 7 - Accuracy:  - 55.20\n",
            "Fold: 8 - Accuracy:  - 60.20\n",
            "Fold: 9 - Accuracy:  - 58.40\n",
            "Fold: 10 - Accuracy:  - 61.40\n",
            "Mean 58.72 Standard Deviation 1.84\n"
          ],
          "name": "stdout"
        }
      ]
    },
    {
      "cell_type": "markdown",
      "metadata": {
        "id": "usdfqmbOyzlq"
      },
      "source": [
        "# Results"
      ]
    },
    {
      "cell_type": "code",
      "metadata": {
        "id": "bJ81_TlQy-c_",
        "outputId": "2eb60786-8ae7-44db-a447-268a73149775",
        "colab": {
          "base_uri": "https://localhost:8080/"
        }
      },
      "source": [
        "accuracy_report(y_test, predictions_SVM1)"
      ],
      "execution_count": null,
      "outputs": [
        {
          "output_type": "stream",
          "text": [
            "              precision    recall  f1-score   support\n",
            "\n",
            "           0       0.03      1.00      0.05         2\n",
            "           1       0.00      0.00      0.00         0\n",
            "           2       0.00      0.00      0.00         8\n",
            "           3       0.00      0.00      0.00         0\n",
            "           4       0.01      0.03      0.01        40\n",
            "           5       0.02      0.10      0.03        21\n",
            "           6       0.00      0.00      0.00         5\n",
            "           7       0.00      0.00      0.00         1\n",
            "           8       0.00      0.00      0.00         8\n",
            "           9       0.00      0.00      0.00         2\n",
            "          10       0.00      0.00      0.00         2\n",
            "          11       0.00      0.00      0.00         7\n",
            "          12       0.00      0.00      0.00         3\n",
            "          14       0.00      0.00      0.00        22\n",
            "          15       0.00      0.00      0.00        16\n",
            "          16       0.00      0.00      0.00         3\n",
            "          17       0.00      0.00      0.00         2\n",
            "          18       0.00      0.00      0.00         1\n",
            "          19       0.00      0.00      0.00         4\n",
            "          20       0.00      0.00      0.00         4\n",
            "          21       0.00      0.00      0.00         8\n",
            "          22       0.00      0.00      0.00         6\n",
            "          23       0.00      0.00      0.00         9\n",
            "          24       0.00      0.00      0.00         4\n",
            "          25       0.00      0.00      0.00        14\n",
            "          26       0.00      0.00      0.00         2\n",
            "          27       0.00      0.00      0.00        12\n",
            "          28       0.00      0.00      0.00         1\n",
            "          29       0.00      0.00      0.00         1\n",
            "          30       0.00      0.00      0.00         4\n",
            "          31       0.00      0.00      0.00         2\n",
            "          32       0.00      0.00      0.00        14\n",
            "          33       0.00      0.00      0.00         5\n",
            "          35       0.00      0.00      0.00         5\n",
            "          36       0.00      0.00      0.00         7\n",
            "          37       0.00      0.00      0.00        15\n",
            "          38       0.00      0.00      0.00         8\n",
            "          39       0.00      0.00      0.00         3\n",
            "          40       0.00      0.00      0.00         9\n",
            "          41       0.00      0.00      0.00         8\n",
            "          42       0.00      0.00      0.00         5\n",
            "          43       0.00      0.00      0.00         1\n",
            "          44       0.00      0.00      0.00         1\n",
            "          46       0.00      0.00      0.00        23\n",
            "          47       0.00      0.00      0.00        15\n",
            "          48       0.00      0.00      0.00        12\n",
            "          49       0.00      0.00      0.00        15\n",
            "          50       0.00      0.00      0.00         2\n",
            "          51       0.00      0.00      0.00         7\n",
            "          52       0.00      0.00      0.00         1\n",
            "          53       0.00      0.00      0.00        17\n",
            "          54       0.00      0.00      0.00        14\n",
            "          55       0.00      0.00      0.00        54\n",
            "          56       0.00      0.00      0.00         2\n",
            "          57       0.00      0.00      0.00        25\n",
            "          58       0.00      0.00      0.00         1\n",
            "          60       0.00      0.00      0.00        14\n",
            "          62       0.00      0.00      0.00         3\n",
            "\n",
            "    accuracy                           0.01       500\n",
            "   macro avg       0.00      0.02      0.00       500\n",
            "weighted avg       0.00      0.01      0.00       500\n",
            "\n",
            "Accuracy : 1.000\n",
            "F1 Score: 0.003\n",
            "Confusion Matrix: \n",
            "[[2 0 0 ... 0 0 0]\n",
            " [0 0 0 ... 0 0 0]\n",
            " [6 0 0 ... 0 0 0]\n",
            " ...\n",
            " [0 0 0 ... 0 0 0]\n",
            " [1 1 0 ... 0 0 0]\n",
            " [0 0 0 ... 0 0 0]]\n"
          ],
          "name": "stdout"
        },
        {
          "output_type": "stream",
          "text": [
            "/usr/local/lib/python3.6/dist-packages/sklearn/metrics/_classification.py:1272: UndefinedMetricWarning: Precision and F-score are ill-defined and being set to 0.0 in labels with no predicted samples. Use `zero_division` parameter to control this behavior.\n",
            "  _warn_prf(average, modifier, msg_start, len(result))\n",
            "/usr/local/lib/python3.6/dist-packages/sklearn/metrics/_classification.py:1272: UndefinedMetricWarning: Recall and F-score are ill-defined and being set to 0.0 in labels with no true samples. Use `zero_division` parameter to control this behavior.\n",
            "  _warn_prf(average, modifier, msg_start, len(result))\n"
          ],
          "name": "stderr"
        }
      ]
    },
    {
      "cell_type": "code",
      "metadata": {
        "id": "SV1hm-o4q_oS",
        "outputId": "53bf5e2c-f083-4017-dcd7-0897a48cdda9",
        "colab": {
          "base_uri": "https://localhost:8080/"
        }
      },
      "source": [
        "accuracy_report(y_test, predictions_SVMN)"
      ],
      "execution_count": null,
      "outputs": [
        {
          "output_type": "stream",
          "text": [
            "              precision    recall  f1-score   support\n",
            "\n",
            "           0       0.67      1.00      0.80         2\n",
            "           2       1.00      0.38      0.55         8\n",
            "           4       0.58      0.70      0.64        40\n",
            "           5       0.64      0.76      0.70        21\n",
            "           6       1.00      0.80      0.89         5\n",
            "           7       0.00      0.00      0.00         1\n",
            "           8       0.70      0.88      0.78         8\n",
            "           9       0.00      0.00      0.00         2\n",
            "          10       0.00      0.00      0.00         2\n",
            "          11       0.86      0.86      0.86         7\n",
            "          12       0.00      0.00      0.00         3\n",
            "          14       0.72      0.82      0.77        22\n",
            "          15       0.86      0.75      0.80        16\n",
            "          16       0.00      0.00      0.00         3\n",
            "          17       0.00      0.00      0.00         2\n",
            "          18       1.00      1.00      1.00         1\n",
            "          19       1.00      0.25      0.40         4\n",
            "          20       0.67      0.50      0.57         4\n",
            "          21       0.43      0.38      0.40         8\n",
            "          22       0.50      0.33      0.40         6\n",
            "          23       0.25      0.22      0.24         9\n",
            "          24       0.33      0.25      0.29         4\n",
            "          25       1.00      0.93      0.96        14\n",
            "          26       1.00      1.00      1.00         2\n",
            "          27       1.00      0.42      0.59        12\n",
            "          28       0.00      0.00      0.00         1\n",
            "          29       1.00      1.00      1.00         1\n",
            "          30       1.00      1.00      1.00         4\n",
            "          31       0.00      0.00      0.00         2\n",
            "          32       0.32      0.50      0.39        14\n",
            "          33       0.75      0.60      0.67         5\n",
            "          35       0.33      0.20      0.25         5\n",
            "          36       0.83      0.71      0.77         7\n",
            "          37       0.58      0.73      0.65        15\n",
            "          38       0.57      0.50      0.53         8\n",
            "          39       0.00      0.00      0.00         3\n",
            "          40       0.80      0.44      0.57         9\n",
            "          41       0.58      0.88      0.70         8\n",
            "          42       0.71      1.00      0.83         5\n",
            "          43       0.00      0.00      0.00         1\n",
            "          44       0.00      0.00      0.00         1\n",
            "          46       0.54      0.57      0.55        23\n",
            "          47       0.87      0.87      0.87        15\n",
            "          48       0.50      0.33      0.40        12\n",
            "          49       0.81      0.87      0.84        15\n",
            "          50       0.50      1.00      0.67         2\n",
            "          51       0.67      0.57      0.62         7\n",
            "          52       0.00      0.00      0.00         1\n",
            "          53       0.17      0.12      0.14        17\n",
            "          54       0.44      0.57      0.50        14\n",
            "          55       0.54      0.72      0.62        54\n",
            "          56       0.50      0.50      0.50         2\n",
            "          57       0.62      0.60      0.61        25\n",
            "          58       1.00      1.00      1.00         1\n",
            "          60       1.00      0.71      0.83        14\n",
            "          62       0.50      0.67      0.57         3\n",
            "\n",
            "    accuracy                           0.61       500\n",
            "   macro avg       0.54      0.52      0.51       500\n",
            "weighted avg       0.62      0.61      0.60       500\n",
            "\n",
            "Accuracy : 61.400\n",
            "F1 Score: 0.600\n",
            "Confusion Matrix: \n",
            "[[ 2  0  0 ...  0  0  0]\n",
            " [ 0  3  0 ...  0  0  0]\n",
            " [ 1  0 28 ...  0  0  0]\n",
            " ...\n",
            " [ 0  0  0 ...  1  0  0]\n",
            " [ 0  0  0 ...  0 10  2]\n",
            " [ 0  0  0 ...  0  0  2]]\n"
          ],
          "name": "stdout"
        },
        {
          "output_type": "stream",
          "text": [
            "/usr/local/lib/python3.6/dist-packages/sklearn/metrics/_classification.py:1272: UndefinedMetricWarning: Precision and F-score are ill-defined and being set to 0.0 in labels with no predicted samples. Use `zero_division` parameter to control this behavior.\n",
            "  _warn_prf(average, modifier, msg_start, len(result))\n"
          ],
          "name": "stderr"
        }
      ]
    },
    {
      "cell_type": "markdown",
      "metadata": {
        "id": "TayrfvyZzyS5"
      },
      "source": [
        "# Removing Feature NER \n",
        "(Due to incompleteness - Certain records having null NER)"
      ]
    },
    {
      "cell_type": "code",
      "metadata": {
        "id": "9oSxZXjq0A9h"
      },
      "source": [
        "le = LabelEncoder()\n",
        "\n",
        "x_encoded = np.concatenate((tfidf_vectorize(df['lemmatized']), tfidf_vectorize(df['headwords']), tfidf_vectorize(df['headwords_synonyms']), tfidf_vectorize(df['pos_tagged'])), axis=1)\n",
        "y_encoded = le.fit_transform(df['class1'])"
      ],
      "execution_count": null,
      "outputs": []
    },
    {
      "cell_type": "code",
      "metadata": {
        "id": "VvrpgPCL0apd",
        "outputId": "02f04c38-9494-4f32-c528-92d56689fbd0",
        "colab": {
          "base_uri": "https://localhost:8080/"
        }
      },
      "source": [
        "from sklearn.model_selection import KFold\n",
        "from sklearn.model_selection import cross_val_score\n",
        "\n",
        "from sklearn.svm import SVC\n",
        "from sklearn.metrics import accuracy_score\n",
        "\n",
        "\n",
        "cv = KFold(n_splits=10, random_state=1, shuffle=True)\n",
        "fold = 0\n",
        "accuracies = []\n",
        "for train_index, test_index in cv.split(x_encoded):\n",
        "    fold += 1\n",
        "    X_train, X_test = x_encoded[train_index], x_encoded[test_index]\n",
        "    y_train, y_test = y_encoded[train_index], y_encoded[test_index]\n",
        "    SVM = SVC(C=1.0, kernel='linear', degree=3, gamma='auto')\n",
        "    SVM.fit(X_train,y_train)\n",
        "    predictions_SVM2 = SVM.predict(X_test)\n",
        "    acc = accuracy_score(predictions_SVM1, y_test)*100\n",
        "    accuracies.append(acc)\n",
        "    print(\"Fold: {} - {} - {:.2f}\".format(fold, \"Accuracy: \",acc))\n",
        "    \n",
        "print(\"Mean {:.2f} Standard Deviation {:.2f}\".format(np.mean(accuracies), np.std(accuracies)))"
      ],
      "execution_count": null,
      "outputs": [
        {
          "output_type": "stream",
          "text": [
            "Fold: 1 - Accuracy:  - 22.80\n",
            "Fold: 2 - Accuracy:  - 24.00\n",
            "Fold: 3 - Accuracy:  - 26.00\n",
            "Fold: 4 - Accuracy:  - 27.80\n",
            "Fold: 5 - Accuracy:  - 22.60\n",
            "Fold: 6 - Accuracy:  - 24.00\n",
            "Fold: 7 - Accuracy:  - 24.00\n",
            "Fold: 8 - Accuracy:  - 22.20\n",
            "Fold: 9 - Accuracy:  - 29.00\n",
            "Fold: 10 - Accuracy:  - 77.20\n",
            "Mean 29.96 Standard Deviation 15.89\n"
          ],
          "name": "stdout"
        }
      ]
    },
    {
      "cell_type": "code",
      "metadata": {
        "id": "XmJ8SA3R9Z-E",
        "outputId": "a684d43a-a345-4e42-e6a0-5cb9b82e623d",
        "colab": {
          "base_uri": "https://localhost:8080/"
        }
      },
      "source": [
        "accuracy_report(y_test, predictions_SVM2)"
      ],
      "execution_count": null,
      "outputs": [
        {
          "output_type": "stream",
          "text": [
            "              precision    recall  f1-score   support\n",
            "\n",
            "           0       0.82      0.80      0.81        76\n",
            "           1       0.88      0.65      0.75        23\n",
            "           2       0.91      0.87      0.89        60\n",
            "           3       0.69      0.71      0.70       112\n",
            "           4       0.85      0.90      0.87        98\n",
            "           5       0.69      0.72      0.71       114\n",
            "           6       1.00      0.82      0.90        17\n",
            "\n",
            "    accuracy                           0.78       500\n",
            "   macro avg       0.84      0.78      0.81       500\n",
            "weighted avg       0.79      0.78      0.78       500\n",
            "\n",
            "Accuracy : 78.400\n",
            "F1 Score: 0.785\n",
            "Confusion Matrix: \n",
            "[[61  0  2  6  0  7  0]\n",
            " [ 1 15  2  3  1  1  0]\n",
            " [ 2  0 52  3  0  3  0]\n",
            " [ 4  0  1 80  7 20  0]\n",
            " [ 1  0  0  5 88  4  0]\n",
            " [ 4  1  0 19  8 82  0]\n",
            " [ 1  1  0  0  0  1 14]]\n"
          ],
          "name": "stdout"
        }
      ]
    },
    {
      "cell_type": "markdown",
      "metadata": {
        "id": "1I361ROF9yk9"
      },
      "source": [
        "# Using only Bag of Words"
      ]
    },
    {
      "cell_type": "code",
      "metadata": {
        "id": "broTBGGa95IO",
        "outputId": "279d4756-2e1b-4f36-8b84-f5ce4eb75487",
        "colab": {
          "base_uri": "https://localhost:8080/"
        }
      },
      "source": [
        "\n",
        "le = LabelEncoder()\n",
        "\n",
        "x_encoded = tfidf_vectorize(df['lemmatized'])\n",
        "y_encoded = le.fit_transform(df['class1'])\n",
        "\n",
        "from sklearn.model_selection import KFold\n",
        "from sklearn.model_selection import cross_val_score\n",
        "\n",
        "from sklearn.svm import SVC\n",
        "from sklearn.metrics import accuracy_score\n",
        "\n",
        "\n",
        "cv = KFold(n_splits=10, random_state=1, shuffle=True)\n",
        "fold = 0\n",
        "accuracies = []\n",
        "for train_index, test_index in cv.split(x_encoded):\n",
        "    fold += 1\n",
        "    X_train, X_test = x_encoded[train_index], x_encoded[test_index]\n",
        "    y_train, y_test = y_encoded[train_index], y_encoded[test_index]\n",
        "    SVM = SVC(C=1.0, kernel='linear', degree=3, gamma='auto')\n",
        "    SVM.fit(X_train,y_train)\n",
        "    predictions_SVM2 = SVM.predict(X_test)\n",
        "    acc = accuracy_score(predictions_SVM2, y_test)*100\n",
        "    accuracies.append(acc)\n",
        "    print(\"Fold: {} - {} - {:.2f}\".format(fold, \"Accuracy: \",acc))\n",
        "    \n",
        "print(\"Mean {:.2f} Standard Deviation {:.2f}\".format(np.mean(accuracies), np.std(accuracies)))"
      ],
      "execution_count": 27,
      "outputs": [
        {
          "output_type": "stream",
          "text": [
            "Fold: 1 - Accuracy:  - 81.80\n",
            "Fold: 2 - Accuracy:  - 80.60\n",
            "Fold: 3 - Accuracy:  - 79.00\n",
            "Fold: 4 - Accuracy:  - 78.80\n",
            "Fold: 5 - Accuracy:  - 79.40\n",
            "Fold: 6 - Accuracy:  - 79.60\n",
            "Fold: 7 - Accuracy:  - 80.40\n",
            "Fold: 8 - Accuracy:  - 80.00\n",
            "Fold: 9 - Accuracy:  - 79.40\n",
            "Fold: 10 - Accuracy:  - 80.80\n",
            "Mean 79.98 Standard Deviation 0.88\n"
          ],
          "name": "stdout"
        }
      ]
    },
    {
      "cell_type": "code",
      "metadata": {
        "id": "Y6-1ldJs-Z8O",
        "outputId": "970bfa01-4c5d-457c-dbad-553fdb75f160",
        "colab": {
          "base_uri": "https://localhost:8080/"
        }
      },
      "source": [
        "accuracy_report(y_test, predictions_SVM2)"
      ],
      "execution_count": null,
      "outputs": [
        {
          "output_type": "stream",
          "text": [
            "              precision    recall  f1-score   support\n",
            "\n",
            "           0       0.86      0.82      0.84        76\n",
            "           1       0.94      0.74      0.83        23\n",
            "           2       0.91      0.82      0.86        60\n",
            "           3       0.76      0.74      0.75       112\n",
            "           4       0.83      0.91      0.87        98\n",
            "           5       0.71      0.79      0.75       114\n",
            "           6       1.00      0.82      0.90        17\n",
            "\n",
            "    accuracy                           0.81       500\n",
            "   macro avg       0.86      0.80      0.83       500\n",
            "weighted avg       0.81      0.81      0.81       500\n",
            "\n",
            "Accuracy : 80.800\n",
            "F1 Score: 0.809\n",
            "Confusion Matrix: \n",
            "[[62  0  2  4  0  8  0]\n",
            " [ 0 17  1  2  2  1  0]\n",
            " [ 4  0 49  4  0  3  0]\n",
            " [ 3  0  2 83  7 17  0]\n",
            " [ 0  0  0  4 89  5  0]\n",
            " [ 3  1  0 12  8 90  0]\n",
            " [ 0  0  0  0  1  2 14]]\n"
          ],
          "name": "stdout"
        }
      ]
    },
    {
      "cell_type": "code",
      "metadata": {
        "id": "Lxv7929usc6w",
        "outputId": "a4a195fe-a05f-490b-efc0-671530339646",
        "colab": {
          "background_save": true,
          "base_uri": "https://localhost:8080/"
        }
      },
      "source": [
        "le = LabelEncoder()\n",
        "\n",
        "x_encoded = tfidf_vectorize(df['lemmatized'])\n",
        "y_encoded = le.fit_transform(df['class2'])\n",
        "\n",
        "from sklearn.model_selection import KFold\n",
        "from sklearn.model_selection import cross_val_score\n",
        "\n",
        "from sklearn.svm import SVC\n",
        "from sklearn.metrics import accuracy_score\n",
        "\n",
        "\n",
        "cv = KFold(n_splits=10, random_state=1, shuffle=True)\n",
        "fold = 0\n",
        "accuracies = []\n",
        "for train_index, test_index in cv.split(x_encoded):\n",
        "    fold += 1\n",
        "    X_train, X_test = x_encoded[train_index], x_encoded[test_index]\n",
        "    y_train, y_test = y_encoded[train_index], y_encoded[test_index]\n",
        "    SVM = SVC(C=1.0, kernel='linear', degree=3, gamma='auto')\n",
        "    SVM.fit(X_train,y_train)\n",
        "    predictions_SVM2 = SVM.predict(X_test)\n",
        "    acc = accuracy_score(predictions_SVM2, y_test)*100\n",
        "    accuracies.append(acc)\n",
        "    print(\"Fold: {} - {} - {:.2f}\".format(fold, \"Accuracy: \",acc))\n",
        "    \n",
        "print(\"Mean {:.2f} Standard Deviation {:.2f}\".format(np.mean(accuracies), np.std(accuracies)))"
      ],
      "execution_count": null,
      "outputs": [
        {
          "output_type": "stream",
          "text": [
            "Fold: 1 - Accuracy:  - 62.00\n",
            "Fold: 2 - Accuracy:  - 64.40\n",
            "Fold: 3 - Accuracy:  - 65.00\n",
            "Fold: 4 - Accuracy:  - 62.40\n",
            "Fold: 5 - Accuracy:  - 65.40\n",
            "Fold: 6 - Accuracy:  - 66.60\n",
            "Fold: 7 - Accuracy:  - 63.80\n",
            "Fold: 8 - Accuracy:  - 66.40\n",
            "Fold: 9 - Accuracy:  - 63.80\n",
            "Fold: 10 - Accuracy:  - 64.60\n",
            "Mean 64.44 Standard Deviation 1.44\n"
          ],
          "name": "stdout"
        }
      ]
    },
    {
      "cell_type": "code",
      "metadata": {
        "id": "U5-A0_N4somi",
        "outputId": "2dd3a730-1fa4-4d2f-887f-dc766eb7f739",
        "colab": {
          "background_save": true
        }
      },
      "source": [
        "accuracy_report(y_test, predictions_SVM2)"
      ],
      "execution_count": null,
      "outputs": [
        {
          "output_type": "stream",
          "text": [
            "              precision    recall  f1-score   support\n",
            "\n",
            "           0       0.67      1.00      0.80         2\n",
            "           2       1.00      0.62      0.77         8\n",
            "           4       0.64      0.68      0.66        40\n",
            "           5       0.74      0.81      0.77        21\n",
            "           6       1.00      0.80      0.89         5\n",
            "           7       0.00      0.00      0.00         1\n",
            "           8       0.75      0.75      0.75         8\n",
            "           9       0.00      0.00      0.00         2\n",
            "          10       0.00      0.00      0.00         2\n",
            "          11       1.00      0.71      0.83         7\n",
            "          12       0.00      0.00      0.00         3\n",
            "          13       0.00      0.00      0.00         0\n",
            "          14       0.62      0.82      0.71        22\n",
            "          15       1.00      0.81      0.90        16\n",
            "          16       0.00      0.00      0.00         3\n",
            "          17       0.00      0.00      0.00         2\n",
            "          18       1.00      1.00      1.00         1\n",
            "          19       1.00      0.25      0.40         4\n",
            "          20       1.00      0.25      0.40         4\n",
            "          21       0.00      0.00      0.00         8\n",
            "          22       0.40      0.33      0.36         6\n",
            "          23       0.57      0.44      0.50         9\n",
            "          24       0.33      0.25      0.29         4\n",
            "          25       1.00      1.00      1.00        14\n",
            "          26       1.00      1.00      1.00         2\n",
            "          27       1.00      0.42      0.59        12\n",
            "          28       0.00      0.00      0.00         1\n",
            "          29       1.00      1.00      1.00         1\n",
            "          30       1.00      1.00      1.00         4\n",
            "          31       0.00      0.00      0.00         2\n",
            "          32       0.71      0.36      0.48        14\n",
            "          33       0.62      1.00      0.77         5\n",
            "          35       0.50      0.40      0.44         5\n",
            "          36       1.00      0.86      0.92         7\n",
            "          37       0.81      0.87      0.84        15\n",
            "          38       0.78      0.88      0.82         8\n",
            "          39       0.50      0.33      0.40         3\n",
            "          40       1.00      0.56      0.71         9\n",
            "          41       0.55      0.75      0.63         8\n",
            "          42       0.57      0.80      0.67         5\n",
            "          43       0.00      0.00      0.00         1\n",
            "          44       0.00      0.00      0.00         1\n",
            "          46       0.52      0.61      0.56        23\n",
            "          47       0.82      0.93      0.87        15\n",
            "          48       0.55      0.50      0.52        12\n",
            "          49       0.82      0.93      0.87        15\n",
            "          50       1.00      1.00      1.00         2\n",
            "          51       0.67      0.57      0.62         7\n",
            "          52       0.00      0.00      0.00         1\n",
            "          53       0.25      0.18      0.21        17\n",
            "          54       0.62      0.57      0.59        14\n",
            "          55       0.46      0.85      0.59        54\n",
            "          56       0.00      0.00      0.00         2\n",
            "          57       0.68      0.52      0.59        25\n",
            "          58       1.00      1.00      1.00         1\n",
            "          60       0.91      0.71      0.80        14\n",
            "          62       0.33      0.33      0.33         3\n",
            "\n",
            "    accuracy                           0.65       500\n",
            "   macro avg       0.57      0.52      0.52       500\n",
            "weighted avg       0.65      0.65      0.63       500\n",
            "\n",
            "Accuracy : 64.600\n",
            "F1 Score: 0.629\n",
            "Confusion Matrix: \n",
            "[[ 2  0  0 ...  0  0  0]\n",
            " [ 0  5  0 ...  0  0  0]\n",
            " [ 1  0 27 ...  0  0  0]\n",
            " ...\n",
            " [ 0  0  0 ...  1  0  0]\n",
            " [ 0  0  0 ...  0 10  2]\n",
            " [ 0  0  0 ...  0  1  1]]\n"
          ],
          "name": "stdout"
        },
        {
          "output_type": "stream",
          "text": [
            "/usr/local/lib/python3.6/dist-packages/sklearn/metrics/_classification.py:1272: UndefinedMetricWarning: Precision and F-score are ill-defined and being set to 0.0 in labels with no predicted samples. Use `zero_division` parameter to control this behavior.\n",
            "  _warn_prf(average, modifier, msg_start, len(result))\n",
            "/usr/local/lib/python3.6/dist-packages/sklearn/metrics/_classification.py:1272: UndefinedMetricWarning: Recall and F-score are ill-defined and being set to 0.0 in labels with no true samples. Use `zero_division` parameter to control this behavior.\n",
            "  _warn_prf(average, modifier, msg_start, len(result))\n"
          ],
          "name": "stderr"
        }
      ]
    }
  ]
}